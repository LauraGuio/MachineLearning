{
  "nbformat": 4,
  "nbformat_minor": 0,
  "metadata": {
    "colab": {
      "name": "P1_load_Boston_mejorado.ipynb",
      "provenance": [],
      "collapsed_sections": [],
      "authorship_tag": "ABX9TyNHj7H/eCzUIo3PX+Mfyd1v",
      "include_colab_link": true
    },
    "kernelspec": {
      "name": "python3",
      "display_name": "Python 3"
    }
  },
  "cells": [
    {
      "cell_type": "markdown",
      "metadata": {
        "id": "view-in-github",
        "colab_type": "text"
      },
      "source": [
        "<a href=\"https://colab.research.google.com/github/LauraGuio/MachineLearning/blob/master/P3_load_Boston_mejorado.ipynb\" target=\"_parent\"><img src=\"https://colab.research.google.com/assets/colab-badge.svg\" alt=\"Open In Colab\"/></a>"
      ]
    },
    {
      "cell_type": "markdown",
      "metadata": {
        "id": "sROZjS6TZ0Ar",
        "colab_type": "text"
      },
      "source": [
        "Importar librerías"
      ]
    },
    {
      "cell_type": "code",
      "metadata": {
        "id": "zH8ET-HZYsDy",
        "colab_type": "code",
        "colab": {}
      },
      "source": [
        "import numpy as np\n",
        "import pandas as pd\n",
        "\n",
        "import matplotlib.pyplot as plt\n",
        "from sklearn import datasets, linear_model\n",
        "import seaborn as sn "
      ],
      "execution_count": null,
      "outputs": []
    },
    {
      "cell_type": "markdown",
      "metadata": {
        "id": "ciRLyP0Ga8Wm",
        "colab_type": "text"
      },
      "source": [
        "Se cargan los datos de load_boston"
      ]
    },
    {
      "cell_type": "code",
      "metadata": {
        "id": "_4JHSi4mbAWn",
        "colab_type": "code",
        "colab": {}
      },
      "source": [
        "boston= datasets.load_boston()"
      ],
      "execution_count": 377,
      "outputs": []
    },
    {
      "cell_type": "markdown",
      "metadata": {
        "id": "N9dKe7ElkCWR",
        "colab_type": "text"
      },
      "source": [
        "Convertir a PANDAS y eliminar la columna CHAS, ya que analizando la matriz de correlación existen varios valores que se acercan a 0 "
      ]
    },
    {
      "cell_type": "code",
      "metadata": {
        "id": "at4j94HrivSa",
        "colab_type": "code",
        "colab": {}
      },
      "source": [
        "boston_df = pd.DataFrame(boston.data, columns=boston.feature_names)\n",
        "boston_df.drop(['AGE','INDUS'],1,inplace=True)"
      ],
      "execution_count": 405,
      "outputs": []
    },
    {
      "cell_type": "markdown",
      "metadata": {
        "id": "ztYnLkliY1Ss",
        "colab_type": "text"
      },
      "source": [
        "Preparación de los datos para el entrenamiento "
      ]
    },
    {
      "cell_type": "code",
      "metadata": {
        "id": "hF3Zy_etcm65",
        "colab_type": "code",
        "colab": {
          "base_uri": "https://localhost:8080/",
          "height": 51
        },
        "outputId": "39dfc3ab-2d3e-48c5-86bf-859212310c64"
      },
      "source": [
        "from sklearn.model_selection import train_test_split\n",
        "y = boston.target\n",
        "x= boston_df.values\n",
        "x_train, x_test, y_train, y_test = train_test_split (x,y, test_size=0.8)\n",
        "print(\"Train = x{} - y{}\".format(x_train.shape,y_train.shape))\n",
        "print(\"Test = x{} - y{}\".format(x_test.shape,y_test.shape))"
      ],
      "execution_count": 406,
      "outputs": [
        {
          "output_type": "stream",
          "text": [
            "Train = x(101, 11) - y(101,)\n",
            "Test = x(405, 11) - y(405,)\n"
          ],
          "name": "stdout"
        }
      ]
    },
    {
      "cell_type": "markdown",
      "metadata": {
        "id": "wwFVFa7Hj9nO",
        "colab_type": "text"
      },
      "source": [
        "Aplicar regresión linear y visualizar"
      ]
    },
    {
      "cell_type": "code",
      "metadata": {
        "id": "Vt0dMDC4mno-",
        "colab_type": "code",
        "colab": {
          "base_uri": "https://localhost:8080/",
          "height": 282
        },
        "outputId": "176f49c7-deb7-466d-9276-b8c128e872f6"
      },
      "source": [
        "regressor = linear_model.LinearRegression()\n",
        "regressor.fit(x_train, y_train)\n",
        "pred = regressor.predict(x_test)\n",
        "\n",
        "plt.scatter(y_test, pred)\n",
        "plt.plot([y.min(), y.max()], [y.min(), y.max()], c='r', lw=2)\n",
        "plt.show()\n",
        "print(\"Precisión del modelo: \"+str(regressor.score(x_test, y_test)))"
      ],
      "execution_count": 407,
      "outputs": [
        {
          "output_type": "display_data",
          "data": {
            "image/png": "[encoded data removed]",
            "text/plain": [
              "<Figure size 432x288 with 1 Axes>"
            ]
          },
          "metadata": {
            "tags": [],
            "needs_background": "light"
          }
        },
        {
          "output_type": "stream",
          "text": [
            "Precisión del modelo: 0.7247236360826284\n"
          ],
          "name": "stdout"
        }
      ]
    }
  ]
}